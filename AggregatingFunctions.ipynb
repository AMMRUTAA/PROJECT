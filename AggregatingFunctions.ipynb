{
  "nbformat": 4,
  "nbformat_minor": 0,
  "metadata": {
    "colab": {
      "provenance": []
    },
    "kernelspec": {
      "name": "python3",
      "display_name": "Python 3"
    },
    "language_info": {
      "name": "python"
    }
  },
  "cells": [
    {
      "cell_type": "code",
      "execution_count": null,
      "metadata": {
        "colab": {
          "base_uri": "https://localhost:8080/"
        },
        "id": "tNbEN1t04FCV",
        "outputId": "1f967f0e-a073-4c0c-c697-96f6a65c6960"
      },
      "outputs": [
        {
          "output_type": "stream",
          "name": "stdout",
          "text": [
            "190\n",
            "20\n",
            "70\n",
            "4\n",
            "47.5\n",
            "[ 20  60 120 190]\n",
            "[     20     800   48000 3360000]\n"
          ]
        }
      ],
      "source": [
        "import numpy as np\n",
        "a= np.array([20,40,60,70])\n",
        "\n",
        "print(np.sum(a))\n",
        "print(np.min(a))\n",
        "print(np.max(a))\n",
        "print(np.size(a))\n",
        "print(np.mean(a))\n",
        "print(np.cumsum(a))\n",
        "print(np.cumprod(a))"
      ]
    },
    {
      "cell_type": "code",
      "source": [
        "a = [100,150,199,200,250,130]\n",
        "b = [10,50,30,40,30,10]\n",
        "\n",
        "price  = np.array(a)\n",
        "quantity = np.array(b)\n",
        "\n",
        "print(price,\"\\n\",quantity)\n",
        "print()\n",
        "c = (np.cumprod([price,quantity],axis=0))\n",
        "print(c[1].sum())"
      ],
      "metadata": {
        "colab": {
          "base_uri": "https://localhost:8080/"
        },
        "id": "hORHCYjN4mrq",
        "outputId": "5fc3fffc-651e-4264-e76c-3ef531778777"
      },
      "execution_count": null,
      "outputs": [
        {
          "output_type": "stream",
          "name": "stdout",
          "text": [
            "[100 150 199 200 250 130] \n",
            " [10 50 30 40 30 10]\n",
            "\n",
            "31270\n"
          ]
        }
      ]
    },
    {
      "cell_type": "code",
      "source": [],
      "metadata": {
        "id": "uLLuiDGC4m7X"
      },
      "execution_count": null,
      "outputs": []
    }
  ]
}