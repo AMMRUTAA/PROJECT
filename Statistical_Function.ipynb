{
  "nbformat": 4,
  "nbformat_minor": 0,
  "metadata": {
    "colab": {
      "provenance": []
    },
    "kernelspec": {
      "name": "python3",
      "display_name": "Python 3"
    },
    "language_info": {
      "name": "python"
    }
  },
  "cells": [
    {
      "cell_type": "code",
      "execution_count": null,
      "metadata": {
        "colab": {
          "base_uri": "https://localhost:8080/"
        },
        "id": "VD_PJir86mxV",
        "outputId": "1014c6c7-6cc6-4c23-872a-650c6848dae1"
      },
      "outputs": [
        {
          "output_type": "stream",
          "name": "stdout",
          "text": [
            "202.57142857142858\n",
            "188.0\n"
          ]
        }
      ],
      "source": [
        "import numpy as np\n",
        "baked_food = [200,300,150,130,280,170,188]\n",
        "\n",
        "a = np.array(baked_food)\n",
        "print(np.mean(baked_food)) #sum of all the values/number of values\n",
        "print(np.median(baked_food))"
      ]
    },
    {
      "cell_type": "code",
      "source": [
        "#130,150,170,188,200,200,280,300"
      ],
      "metadata": {
        "id": "uCyII4Uo6wjn"
      },
      "execution_count": null,
      "outputs": []
    },
    {
      "cell_type": "code",
      "source": [
        "import numpy as np\n",
        "import statistics as stats\n",
        "baked_food = [200,300,150,130,200,280,170,188]\n",
        "\n",
        "a = np.array(baked_food)\n",
        "print(np.mean(baked_food)) #sum of all the values/number of values\n",
        "print(np.median(baked_food)) #central values after sorting\n",
        "print(stats.mode(baked_food))\n",
        "print(np.std(baked_food))\n",
        "print(np.var(baked_food))"
      ],
      "metadata": {
        "colab": {
          "base_uri": "https://localhost:8080/"
        },
        "id": "iHuGdyUO6wm9",
        "outputId": "79deddb1-7ec5-4487-cad9-c6aa823b563d"
      },
      "execution_count": null,
      "outputs": [
        {
          "output_type": "stream",
          "name": "stdout",
          "text": [
            "202.25\n",
            "194.0\n",
            "200\n",
            "55.68157235567257\n",
            "3100.4375\n"
          ]
        }
      ]
    },
    {
      "cell_type": "code",
      "source": [
        "tobacco_consumption = [30,50,10,30,50,40]\n",
        "deaths =[100,120,70,100,120,112]\n",
        "\n",
        "print(np.corrcoef([tobacco_consumption,deaths]))"
      ],
      "metadata": {
        "colab": {
          "base_uri": "https://localhost:8080/"
        },
        "id": "aj5SmVpB6wtH",
        "outputId": "42f7ed91-b7a9-44d2-c623-0a7bd940f98a"
      },
      "execution_count": null,
      "outputs": [
        {
          "output_type": "stream",
          "name": "stdout",
          "text": [
            "[[1.         0.99015454]\n",
            " [0.99015454 1.        ]]\n"
          ]
        }
      ]
    },
    {
      "cell_type": "code",
      "source": [
        "price = [300,100,350,150,200]\n",
        "sales = [10,20,7,17,3]\n",
        "\n",
        "print(np.corrcoef([price,sales]))"
      ],
      "metadata": {
        "colab": {
          "base_uri": "https://localhost:8080/"
        },
        "id": "oqjNFfzz6wwt",
        "outputId": "f5311f1f-6c74-492f-d87c-c22741e1629e"
      },
      "execution_count": null,
      "outputs": [
        {
          "output_type": "stream",
          "name": "stdout",
          "text": [
            "[[ 1.         -0.66621445]\n",
            " [-0.66621445  1.        ]]\n"
          ]
        }
      ]
    }
  ]
}