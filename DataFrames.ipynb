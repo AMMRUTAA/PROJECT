{
  "nbformat": 4,
  "nbformat_minor": 0,
  "metadata": {
    "colab": {
      "provenance": []
    },
    "kernelspec": {
      "name": "python3",
      "display_name": "Python 3"
    },
    "language_info": {
      "name": "python"
    }
  },
  "cells": [
    {
      "cell_type": "code",
      "execution_count": null,
      "metadata": {
        "id": "FmlBvnl-UX8g",
        "outputId": "d741d244-e942-4ecc-ce52-f102db1eee48",
        "colab": {
          "base_uri": "https://localhost:8080/",
          "height": 110
        }
      },
      "outputs": [
        {
          "output_type": "error",
          "ename": "IndentationError",
          "evalue": "unexpected indent (<ipython-input-2-24f77d601a2a>, line 7)",
          "traceback": [
            "\u001b[0;36m  File \u001b[0;32m\"<ipython-input-2-24f77d601a2a>\"\u001b[0;36m, line \u001b[0;32m7\u001b[0m\n\u001b[0;31m    df = pd.DataFrame(data)\u001b[0m\n\u001b[0m    ^\u001b[0m\n\u001b[0;31mIndentationError\u001b[0m\u001b[0;31m:\u001b[0m unexpected indent\n"
          ]
        }
      ],
      "source": [
        "import pandas as pd\n",
        "\n",
        "data = {\"Name\":[\"John\",\"Peter\",\"Lisa\"],\n",
        "\"Age\": [25,28,31],\n",
        " \"Salary\" : [300000,45000,25000]}\n",
        "\n",
        " df = pd.DataFrame(data)\n",
        " print(df)\n"
      ]
    }
  ]
}